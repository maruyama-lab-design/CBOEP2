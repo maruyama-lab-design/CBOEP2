{
 "cells": [
  {
   "cell_type": "code",
   "execution_count": null,
   "metadata": {},
   "outputs": [],
   "source": [
    "import os\n",
    "import pandas as pd\n",
    "\n",
    "cell_types = [[\"GM12878\", \"HeLa-S3\", \"HMEC\", \"IMR90\", \"K562\", \"NHEK\"],\n",
    "                [\"GM12878\", \"HeLa-S3\", \"IMR90\", \"K562\", \"NHEK\"]]\n",
    "\n",
    "pos_labels = [\"BENGI-P\", \"TargetFinderData-P\"]\n",
    "\n",
    "neg_labels = [ \n",
    "    [ \"retainedBENGI-N-1\", \"removedBENGI-N-1\", \"CBMF-N-1\", \"CBGS-N-1\"], \n",
    "            # [\"retainedTargetFinderData-N\", \"CBMF-N\", \"CBGS-N\"]\n",
    "            ]\n",
    "\n",
    "test_labels = [\"removedCommonTest-N\", \"retainedCommonTest-N\"]\n",
    "\n",
    "\n",
    "for pos_label_index, pos_label in enumerate(pos_labels[:1]):\n",
    "    for neg_label in neg_labels[pos_label_index]: \n",
    "        path = os.path.join(\"..\", \"input_to_EPI_predictor\", f\"BENGI-P_{neg_label}\", 'GM12878.csv')\n",
    "        print(path)\n",
    "        df = pd.read_csv(path)\n",
    "        print(df[df['label'] == 1].shape)\n",
    "        print(df[df['label'] == 0].shape)\n",
    "\n",
    "for pos_label_index, pos_label in enumerate(pos_labels[:1]):\n",
    "    for test_label in test_labels: \n",
    "        for cell_line in cell_types[pos_label_index]: \n",
    "            path = os.path.join(\"..\", \"input_to_EPI_predictor\", f\"BENGI-P_{test_label}\", cell_line + \".csv\")\n",
    "            print(path)\n",
    "            df = pd.read_csv(path)\n",
    "            print(df[df['label'] == 1].shape)\n",
    "            print(df[df['label'] == 0].shape)\n",
    "\n"
   ]
  },
  {
   "cell_type": "code",
   "execution_count": null,
   "metadata": {},
   "outputs": [],
   "source": [
    "import os\n",
    "import pandas as pd\n",
    "\n",
    "cell_lines = [\"GM12878\", \"HeLa-S3\", \"HMEC\", \"IMR90\", \"K562\", \"NHEK\"]\n",
    "\n",
    "pos_label = \"_BENGI-P\"\n",
    "\n",
    "neg_labels = [ 'retainedBENGI-N', 'removedBENGI-N']\n",
    "\n",
    "for cell_line in cell_lines:\n",
    "    print(cell_line)\n",
    "    path = os.path.join(\"..\", \"input_to_EPI_predictor\", f\"{pos_label}_{neg_labels[0]}\", cell_line + \".csv\")\n",
    "    df_1 = pd.read_csv(path)\n",
    "    path = os.path.join(\"..\", \"input_to_EPI_predictor\", f\"{pos_label}_{neg_labels[1]}\", cell_line + \".csv\")\n",
    "    df_2 = pd.read_csv(path)\n",
    "    print(len(df_1[df_1['label'] == 0]) - len(df_2[df_2['label'] == 0]))\n",
    "    print(\n",
    "        (len(df_1[df_1['label'] == 0]) - len(df_2[df_2['label'] == 0]))/len(df_1[df_1['label'] == 0])\n",
    "    )"
   ]
  }
 ],
 "metadata": {
  "kernelspec": {
   "display_name": "py312",
   "language": "python",
   "name": "python3"
  },
  "language_info": {
   "codemirror_mode": {
    "name": "ipython",
    "version": 3
   },
   "file_extension": ".py",
   "mimetype": "text/x-python",
   "name": "python",
   "nbconvert_exporter": "python",
   "pygments_lexer": "ipython3",
   "version": "3.12.2"
  }
 },
 "nbformat": 4,
 "nbformat_minor": 2
}
